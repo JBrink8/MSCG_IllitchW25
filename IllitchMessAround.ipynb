{
 "cells": [
  {
   "cell_type": "code",
   "execution_count": 2,
   "id": "6459c6ee-ba90-4254-a3e3-0ffc67698c62",
   "metadata": {},
   "outputs": [],
   "source": [
    "path = \"Users\\Jacob\\OneDrive\\Desktop\\Work\\DTIFanData_2-21-25.csv\""
   ]
  }
 ],
 "metadata": {
  "kernelspec": {
   "display_name": "Python 3 (ipykernel)",
   "language": "python",
   "name": "python3"
  },
  "language_info": {
   "codemirror_mode": {
    "name": "ipython",
    "version": 3
   },
   "file_extension": ".py",
   "mimetype": "text/x-python",
   "name": "python",
   "nbconvert_exporter": "python",
   "pygments_lexer": "ipython3",
   "version": "3.8.10"
  }
 },
 "nbformat": 4,
 "nbformat_minor": 5
}
