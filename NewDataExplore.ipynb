{
 "cells": [
  {
   "cell_type": "markdown",
   "metadata": {},
   "source": [
    "<h1>Validating new Tigers Data</h5>\n",
    "New dataset sent over on March 27th, 2025. Must validate that shape of data is consistent with prior dataset in order to rerun old code."
   ]
  },
  {
   "cell_type": "code",
   "execution_count": 1,
   "metadata": {},
   "outputs": [],
   "source": [
    "import numpy as np\n",
    "import pandas as pd\n",
    "import matplotlib.pyplot as plt\n",
    "from sklearn.cluster import KMeans\n",
    "from Helpers import *"
   ]
  },
  {
   "cell_type": "code",
   "execution_count": 2,
   "metadata": {},
   "outputs": [
    {
     "name": "stderr",
     "output_type": "stream",
     "text": [
      "/tmp/ipykernel_9216/3333092224.py:2: DtypeWarning: Columns (4,6,7,165) have mixed types. Specify dtype option on import or set low_memory=False.\n",
      "  dfOld = pd.read_csv('data/DTIFanData_2-21-25.csv')\n",
      "/tmp/ipykernel_9216/3333092224.py:3: DtypeWarning: Columns (4,6,7) have mixed types. Specify dtype option on import or set low_memory=False.\n",
      "  dfNew = pd.read_csv('data/DTIFanData_3-25-25.csv')\n"
     ]
    }
   ],
   "source": [
    "# load the data\n",
    "dfOld = pd.read_csv('data/DTIFanData_2-21-25.csv')\n",
    "dfNew = pd.read_csv('data/DTIFanData_3-25-25.csv')"
   ]
  },
  {
   "cell_type": "code",
   "execution_count": 3,
   "metadata": {},
   "outputs": [],
   "source": [
    "# validate same column names\n",
    "assert (dfOld.columns == dfNew.columns).all()"
   ]
  },
  {
   "cell_type": "code",
   "execution_count": 6,
   "metadata": {},
   "outputs": [
    {
     "name": "stdout",
     "output_type": "stream",
     "text": [
      "Old data size: (397187, 196)\n",
      "New data size: (413222, 196)\n",
      "Difference in size: New data +16035 entries\n"
     ]
    }
   ],
   "source": [
    "# compare the size of the data\n",
    "print('Old data size:', dfOld.shape)\n",
    "print('New data size:', dfNew.shape)\n",
    "print(f'Difference in size: New data +{dfNew.shape[0] - dfOld.shape[0]} entries')"
   ]
  },
  {
   "cell_type": "code",
   "execution_count": 7,
   "metadata": {},
   "outputs": [
    {
     "name": "stdout",
     "output_type": "stream",
     "text": [
      "New data size without nulls: (0, 196)\n",
      "Yeah, that checks out\n"
     ]
    }
   ],
   "source": [
    "# drop all null values from new data to see if like the old data all rows have nulls\n",
    "dfNewNoNulls = dfNew.dropna()\n",
    "print('New data size without nulls:', dfNewNoNulls.shape)\n",
    "if dfNewNoNulls.shape[0] != 0:\n",
    "    print('YES! YES! YES!')\n",
    "else:\n",
    "    print('Yeah, that checks out')"
   ]
  },
  {
   "cell_type": "code",
   "execution_count": 12,
   "metadata": {},
   "outputs": [
    {
     "name": "stdout",
     "output_type": "stream",
     "text": [
      "Columns: ['KeepFlag', 'GlobalKey', 'SeasonKey', 'FanSinceDate', 'FirstGameAttended', 'TotalGamesAttended', 'FirstGameBought', 'LastGameBought', 'TotalTicketsPurchased', 'TotalLifetimeValue', 'CurrentSeasonEmailActivities', 'PreviousSeasonsEmailActivities', 'STMFlagCurr', 'TicketingFanType', 'EmailFanType', 'FullSeasonBuyer', 'HalfSeasonBuyer', 'QuarterSeasonBuyer', 'MiniPlanBuyer', 'IndividualGameBuyer', 'City', 'State', 'PostalCd', 'Country', 'Gender', 'Education', 'Occupation', 'Age', 'MaritalStatus', 'PresenceOfChildren', 'DwellingType', 'HouseholdIncome', 'NetWorth', 'PrimaryVehicleType', 'MSADescription', 'MailSuppresionFlg', 'WorkingWomanFlg', 'BankCardHolderFlg', 'GasDepartmentRetailCardHolderFlg', 'TravelEntertainmentCardHolderFlg', 'CreditCardHolderUnknownTypeFlg', 'PremiumCardHolderFlg', 'UpscaleDepartmentStoreCardHolderFlg', 'MailOrderResponderFlg', 'TruckOwnerFlg', 'MotorcycleOwnerFlg', 'RVOwnerFlg', 'IntTheatrePerformingArtsFlg', 'IntArtsFlg', 'IntDomesticTravelFlg', 'IntHomeStereosFlg', 'IntMusicDevicesFlg', 'IntMusicAvidListenerFlg', 'IntMusicCollectorFlg', 'IntMovieCollectorFlg', 'IntAutoRacingFlg', 'IntFootballFlg', 'IntBaseballFlg', 'IntBasketballFlg', 'IntHockeyFlg', 'IntContestsFlg', 'IntSportsFlg', 'IntMusicMoviesFlg', 'IntNascarFlg', 'IntUpscaleLivingFlg', 'DistanceToArena', 'NumberOfAdultsInHousehold', 'LengthOfResidence', 'DiscretionaryIncomeIndex', 'FinancialScore', 'NumberOfVehicles', 'Male18to24', 'Female18to24', 'Male25to34', 'Female25to34', 'Male35to44', 'Female35to44', 'Male45to54', 'Female45to54', 'Male55to65', 'Female55to64', 'Male65to75', 'Female65to74', 'Male75up', 'Female75up', 'ClientFirstSaleDateKey', 'VisaCardUserFlg', 'MasterCardUserFlg', 'AmexCardUserFlg', 'DiscoverCardUserFlg', 'OtherCardUserFlg', 'ClientWalkUpBuyerFlg', 'GroupBuyerFlg', 'ConcertEventFlg', 'ArtsEventFlg', 'SportsEventFlg', 'FamilyEventFlg', 'HighSpenderFlg', 'TotalEvents', 'AvgTicketsPerEvent', 'TotalSpend', 'AvgSpendPerEvent', 'LowestTicketPrice', 'HighestTicketPrice', 'AvgDistanceTraveledLocal', 'SpendPerEventConcerts', 'SpendPerEventArts', 'SpendPerEventSports', 'SpendPerEventFamily', 'ClusterCode', 'ClusterDescription', 'GroupCode', 'GroupDescription', 'OutlierFlg', 'ModelConfidence', 'ModelPlanGrade', 'ModelPlanScore', 'ModelTixPriceGrade', 'ModelTixPriceScore', 'ModelSeasonSpendGrade', 'ModelSeasonSpendScore', 'RFMGrade', 'RFMScore', 'HighPriceBuyerLikelihood', 'PropnBaseball', 'PropnBasketball', 'PropnFootball', 'PropnHockey', 'PropnSoccer', 'PropnAdultContemporary', 'PropnAltRock', 'PropnCountry', 'PropnEDM', 'PropnMetal', 'PropnJazzBlues', 'PropnLatin', 'PropnUrbanHipHopRap', 'PropnRnBSoul', 'PropnRockPop', 'PropnMusicFestivals', 'PropnOtherConcerts', 'PropnBroadwayMusical', 'PropnComedy', 'PropnClassicalOpera', 'PropnTheatrePlays', 'PropnBalletDance', 'PropnArtsFestival', 'PropnMagicShows', 'PropnOtherArts', 'PropnCircus', 'PropnFamilyShows', 'PropnOtherFamily', 'PropnBoxing', 'PropnMMA', 'PropnWrestling', 'PropnCollegeBaseball', 'PropnCollegeBasketball', 'PropnCollegeFootball', 'PropnCollegeHockey', 'PropnMotorsports', 'PropnRodeo', 'PropnGolf', 'PropnTennis', 'PropnOtherSports', 'HouseholdEstimateIncome', 'MatchLevelCode', 'MatchLevelDescription', 'ShareOfWalletConcerts', 'ShareOfWalletArts', 'ShareOfWalletSports', 'ShareOfWalletFamily', 'ShareOfWalletMiscellaneous', 'PercentOfTransactions1_2Tickets', 'PercentOfTransactions3_4Tickets', 'PercentOfTransactions5_8Tickets', 'PercentOfTransactions9PlusTickets', 'PercentOfTransactions1_25DollarTickets', 'PercentOfTransactions26_50DollarTickets', 'PercentOfTransactions51_100DollarTickets', 'PercentOfTransactions101_200DollarTickets', 'PercentOfTransactions201PlusDollarTickets', 'PercentOfTicketsLowPriceLevel', 'PercentOfTicketsFairPriceLevel', 'PercentOfTicketsGoodPriceLevel', 'PercentOfTicketsVeryGoodPriceLevel', 'PercentOfTicketsBestPriceLevel', 'PercentOfTicketsPurchasedPresale', 'PercentOfTicketsPurchasedFirstDayOnsale', 'PercentOfTicketsPurchasedFirstWeekOnSale', 'PercentOfTicketsPurchasedBeforeWeekOfEvent', 'PercentOfTicketsPurchasedWeekOfEvent', 'PercentOfTransactionsViaTicketMaster', 'PercentOfTransactionsViaCallCenter', 'PercentOfTransactionsViaMobile', 'PercentOfTransactionsViaBoxOffice', 'PercentOfTransactionsViaOutlet']\n"
     ]
    }
   ],
   "source": [
    "# print out all column names in a list\n",
    "print('Columns:', dfNew.columns.tolist())"
   ]
  },
  {
   "cell_type": "code",
   "execution_count": 13,
   "metadata": {},
   "outputs": [
    {
     "name": "stdout",
     "output_type": "stream",
     "text": [
      "    FullSeasonBuyer  HalfSeasonBuyer  QuarterSeasonBuyer  MiniPlanBuyer  \\\n",
      "0               NaN              NaN                 NaN            NaN   \n",
      "1               NaN              NaN                 NaN            NaN   \n",
      "2               NaN              NaN                 NaN            NaN   \n",
      "3               NaN              NaN                 NaN            NaN   \n",
      "4               NaN              NaN                 NaN            NaN   \n",
      "5               NaN              NaN                 NaN            NaN   \n",
      "6               NaN              NaN                 NaN            NaN   \n",
      "7               NaN              NaN                 NaN            NaN   \n",
      "8               NaN              NaN                 NaN            NaN   \n",
      "9               NaN              NaN                 NaN            NaN   \n",
      "10              NaN              NaN                 NaN            NaN   \n",
      "11              NaN              NaN                 NaN            NaN   \n",
      "12              NaN              NaN                 NaN            NaN   \n",
      "13              NaN              NaN                 NaN            NaN   \n",
      "14              NaN              NaN                 NaN            NaN   \n",
      "15              0.0              0.0                 0.0            0.0   \n",
      "16              NaN              NaN                 NaN            NaN   \n",
      "17              NaN              NaN                 NaN            NaN   \n",
      "18              NaN              NaN                 NaN            NaN   \n",
      "19              NaN              NaN                 NaN            NaN   \n",
      "20              NaN              NaN                 NaN            NaN   \n",
      "21              NaN              NaN                 NaN            NaN   \n",
      "22              NaN              NaN                 NaN            NaN   \n",
      "23              NaN              NaN                 NaN            NaN   \n",
      "24              NaN              NaN                 NaN            NaN   \n",
      "25              NaN              NaN                 NaN            NaN   \n",
      "26              NaN              NaN                 NaN            NaN   \n",
      "27              NaN              NaN                 NaN            NaN   \n",
      "28              NaN              NaN                 NaN            NaN   \n",
      "29              NaN              NaN                 NaN            NaN   \n",
      "\n",
      "    IndividualGameBuyer  \n",
      "0                   NaN  \n",
      "1                   NaN  \n",
      "2                   NaN  \n",
      "3                   NaN  \n",
      "4                   NaN  \n",
      "5                   NaN  \n",
      "6                   NaN  \n",
      "7                   NaN  \n",
      "8                   NaN  \n",
      "9                   NaN  \n",
      "10                  NaN  \n",
      "11                  NaN  \n",
      "12                  NaN  \n",
      "13                  NaN  \n",
      "14                  NaN  \n",
      "15                  1.0  \n",
      "16                  NaN  \n",
      "17                  NaN  \n",
      "18                  NaN  \n",
      "19                  NaN  \n",
      "20                  NaN  \n",
      "21                  NaN  \n",
      "22                  NaN  \n",
      "23                  NaN  \n",
      "24                  NaN  \n",
      "25                  NaN  \n",
      "26                  NaN  \n",
      "27                  NaN  \n",
      "28                  NaN  \n",
      "29                  NaN  \n"
     ]
    }
   ],
   "source": [
    "# check out the ticket buyer data to see if it's still uninterpretable\n",
    "buyerColumns = ['FullSeasonBuyer', 'HalfSeasonBuyer', 'QuarterSeasonBuyer', 'MiniPlanBuyer', 'IndividualGameBuyer']\n",
    "# print the first 10 rows of the buyer data\n",
    "print(dfNew[buyerColumns].head(30))"
   ]
  },
  {
   "cell_type": "code",
   "execution_count": 18,
   "metadata": {},
   "outputs": [
    {
     "name": "stdout",
     "output_type": "stream",
     "text": [
      "Old Buyer Totals: {'FullSeasonBuyer': 6.0, 'HalfSeasonBuyer': 0.0, 'QuarterSeasonBuyer': 0.0, 'MiniPlanBuyer': 1062.0, 'IndividualGameBuyer': 0.0}\n"
     ]
    }
   ],
   "source": [
    "# old totals\n",
    "oldBuyerTotals = {}\n",
    "for col in buyerColumns:\n",
    "    oldBuyerTotals[col] = dfOld[col].sum()\n",
    "print('Old Buyer Totals:', oldBuyerTotals)"
   ]
  },
  {
   "cell_type": "code",
   "execution_count": 19,
   "metadata": {},
   "outputs": [
    {
     "name": "stdout",
     "output_type": "stream",
     "text": [
      "New Buyer Totals: {'FullSeasonBuyer': 1191.0, 'HalfSeasonBuyer': 558.0, 'QuarterSeasonBuyer': 2597.0, 'MiniPlanBuyer': 1591.0, 'IndividualGameBuyer': 14172.0}\n"
     ]
    }
   ],
   "source": [
    "# bad results from the buyer columns, lets calculate the total number of buyers in each category\n",
    "buyerTotals = {}\n",
    "for col in buyerColumns:\n",
    "    buyerTotals[col] = dfNew[col].sum()\n",
    "print('New Buyer Totals:', buyerTotals)"
   ]
  },
  {
   "cell_type": "markdown",
   "metadata": {},
   "source": [
    "<p>Awesome!</p>"
   ]
  },
  {
   "cell_type": "code",
   "execution_count": 24,
   "metadata": {},
   "outputs": [
    {
     "name": "stdout",
     "output_type": "stream",
     "text": [
      "Buyer columns are not exclusive, example row:\n",
      " FullSeasonBuyer        0.0\n",
      "HalfSeasonBuyer        0.0\n",
      "QuarterSeasonBuyer     1.0\n",
      "MiniPlanBuyer          0.0\n",
      "IndividualGameBuyer    1.0\n",
      "Name: 204, dtype: object\n"
     ]
    }
   ],
   "source": [
    "# are the columns exclusive? i.e. can a FullSeasonBuyer also be a HalfSeasonBuyer?\n",
    "\n",
    "# iterate through rows, for each row sum each column (if not NaN) and check if the sum is greater than 1\n",
    "# if it is, then the columns are not exclusive\n",
    "exclusive = True\n",
    "exampleRow = None\n",
    "for i in range(dfNew.shape[0]):\n",
    "    row = dfNew.iloc[i]\n",
    "    if row[buyerColumns].sum() > 1:\n",
    "        exclusive = False\n",
    "        exampleRow = row\n",
    "        break\n",
    "\n",
    "if exclusive:\n",
    "    print('Buyer columns are exclusive!')\n",
    "else:\n",
    "    print(f'Buyer columns are not exclusive, example row:\\n {exampleRow[buyerColumns]}')\n"
   ]
  },
  {
   "cell_type": "code",
   "execution_count": 26,
   "metadata": {},
   "outputs": [
    {
     "name": "stdout",
     "output_type": "stream",
     "text": [
      "Number of rows with at least one buyer column filled out: 19093\n",
      "Percentage of rows with at least one buyer column filled out: 4.62%\n"
     ]
    }
   ],
   "source": [
    "# how many rows have at least one buyer column filled out?\n",
    "buyers = dfNew[dfNew[buyerColumns].sum(axis=1) > 0]\n",
    "print(f'Number of rows with at least one buyer column filled out: {buyers.shape[0]}')\n",
    "print(f'Percentage of rows with at least one buyer column filled out: {buyers.shape[0] / dfNew.shape[0] * 100:.2f}%')"
   ]
  },
  {
   "cell_type": "markdown",
   "metadata": {},
   "source": [
    "<b>Ticket buyer columns are better. But only 4.62% of the entries are marked as ticket buyers which seems very wrong.</b>"
   ]
  }
 ],
 "metadata": {
  "kernelspec": {
   "display_name": "venv",
   "language": "python",
   "name": "python3"
  },
  "language_info": {
   "codemirror_mode": {
    "name": "ipython",
    "version": 3
   },
   "file_extension": ".py",
   "mimetype": "text/x-python",
   "name": "python",
   "nbconvert_exporter": "python",
   "pygments_lexer": "ipython3",
   "version": "3.8.10"
  }
 },
 "nbformat": 4,
 "nbformat_minor": 2
}
