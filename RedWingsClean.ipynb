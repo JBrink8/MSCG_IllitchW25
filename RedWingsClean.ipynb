{
 "cells": [
  {
   "cell_type": "markdown",
   "id": "88d63c7e",
   "metadata": {},
   "source": [
    "<h1>Notebook to clean the Redwings Data Set</h1>\n",
    "<p>data/DRWFanData_2-21-25.csv will be cleaned</p>"
   ]
  },
  {
   "cell_type": "markdown",
   "id": "6a008554",
   "metadata": {},
   "source": [
    "<h3>Dependencies</h3>"
   ]
  },
  {
   "cell_type": "code",
   "execution_count": 1,
   "id": "6459c6ee-ba90-4254-a3e3-0ffc67698c62",
   "metadata": {},
   "outputs": [],
   "source": [
    "import numpy as np\n",
    "import pandas as pd\n",
    "import matplotlib.pyplot as plt\n",
    "from sklearn.cluster import KMeans"
   ]
  },
  {
   "cell_type": "markdown",
   "id": "7c895772",
   "metadata": {},
   "source": [
    "<h3>Load the dataset</h3>"
   ]
  },
  {
   "cell_type": "code",
   "execution_count": 2,
   "id": "8e9c02c7",
   "metadata": {},
   "outputs": [
    {
     "name": "stderr",
     "output_type": "stream",
     "text": [
      "/tmp/ipykernel_25756/1069976411.py:3: DtypeWarning: Columns (4,6,7,20,21,22,23,24,25,26,28,29,30,31,32,33,34,110,112,115,117,119,121,164,165,166) have mixed types. Specify dtype option on import or set low_memory=False.\n",
      "  data = pd.read_csv(path)\n"
     ]
    },
    {
     "name": "stdout",
     "output_type": "stream",
     "text": [
      "   KeepFlag  GlobalKey  SeasonKey FanSinceDate  \\\n",
      "0         1          9       2024   2021-10-18   \n",
      "1         1         15       2024   2017-11-25   \n",
      "2         1         17       2024   2015-12-04   \n",
      "3         1         22       2024   2022-02-17   \n",
      "4         1         25       2024   2008-02-25   \n",
      "\n",
      "                  FirstGameAttended  TotalGamesAttended  \\\n",
      "0  2021-10-19 Columbus Blue Jackets                23.0   \n",
      "1      2017-11-25 New Jersey Devils                 6.0   \n",
      "2         2021-11-27 Buffalo Sabres                 4.0   \n",
      "3         2022-03-10 Minnesota Wild                 1.0   \n",
      "4        2024-10-27 Edmonton Oilers                 1.0   \n",
      "\n",
      "                FirstGameBought                  LastGameBought  \\\n",
      "0                           NaN                             NaN   \n",
      "1  2017-11-25 New Jersey Devils        2017-12-13 Boston Bruins   \n",
      "2     2024-04-07 Buffalo Sabres  2024-12-18 Philadelphia Flyers   \n",
      "3                           NaN                             NaN   \n",
      "4    2024-10-27 Edmonton Oilers      2024-10-27 Edmonton Oilers   \n",
      "\n",
      "   TotalTicketsPurchased  TotalLifetimeValue  ...  \\\n",
      "0                    NaN                 NaN  ...   \n",
      "1                    2.0                50.0  ...   \n",
      "2                    8.0               452.0  ...   \n",
      "3                    NaN                 NaN  ...   \n",
      "4                    2.0               398.0  ...   \n",
      "\n",
      "   PercentOfTicketsPurchasedPresale  PercentOfTicketsPurchasedFirstDayOnsale  \\\n",
      "0                              0.20                                     0.00   \n",
      "1                               NaN                                      NaN   \n",
      "2                              0.62                                     0.25   \n",
      "3                              0.00                                     0.00   \n",
      "4                               NaN                                      NaN   \n",
      "\n",
      "   PercentOfTicketsPurchasedFirstWeekOnSale  \\\n",
      "0                                       0.0   \n",
      "1                                       NaN   \n",
      "2                                       0.0   \n",
      "3                                       0.0   \n",
      "4                                       NaN   \n",
      "\n",
      "  PercentOfTicketsPurchasedBeforeWeekOfEvent  \\\n",
      "0                                       0.20   \n",
      "1                                        NaN   \n",
      "2                                       0.12   \n",
      "3                                       1.00   \n",
      "4                                        NaN   \n",
      "\n",
      "  PercentOfTicketsPurchasedWeekOfEvent  PercentOfTransactionsViaTicketMaster  \\\n",
      "0                                  0.6                                  0.60   \n",
      "1                                  NaN                                   NaN   \n",
      "2                                  0.0                                  0.88   \n",
      "3                                  0.0                                  0.00   \n",
      "4                                  NaN                                   NaN   \n",
      "\n",
      "   PercentOfTransactionsViaCallCenter  PercentOfTransactionsViaMobile  \\\n",
      "0                                 0.0                            0.40   \n",
      "1                                 NaN                             NaN   \n",
      "2                                 0.0                            0.12   \n",
      "3                                 0.0                            1.00   \n",
      "4                                 NaN                             NaN   \n",
      "\n",
      "   PercentOfTransactionsViaBoxOffice  PercentOfTransactionsViaOutlet  \n",
      "0                                0.0                             0.0  \n",
      "1                                NaN                             NaN  \n",
      "2                                0.0                             0.0  \n",
      "3                                0.0                             0.0  \n",
      "4                                NaN                             NaN  \n",
      "\n",
      "[5 rows x 196 columns]\n"
     ]
    }
   ],
   "source": [
    "path = 'data/DRWFanData_2-21-25.csv'\n",
    "# Load the data\n",
    "data = pd.read_csv(path)\n",
    "# Display the first few rows of the dataframe\n",
    "print(data.head())"
   ]
  },
  {
   "cell_type": "markdown",
   "id": "44724449",
   "metadata": {},
   "source": []
  }
 ],
 "metadata": {
  "kernelspec": {
   "display_name": "venv",
   "language": "python",
   "name": "python3"
  },
  "language_info": {
   "codemirror_mode": {
    "name": "ipython",
    "version": 3
   },
   "file_extension": ".py",
   "mimetype": "text/x-python",
   "name": "python",
   "nbconvert_exporter": "python",
   "pygments_lexer": "ipython3",
   "version": "3.8.10"
  }
 },
 "nbformat": 4,
 "nbformat_minor": 5
}
